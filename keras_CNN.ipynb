{
 "cells": [
  {
   "cell_type": "code",
   "execution_count": 1,
   "id": "e742adde",
   "metadata": {},
   "outputs": [],
   "source": [
    "import tensorflow as tf\n",
    "from tensorflow import keras\n",
    "from matplotlib import pyplot as plt\n",
    "import seaborn as sns\n",
    "import numpy as np\n",
    "import pandas as pd\n",
    "import keras_tuner as kt"
   ]
  },
  {
   "cell_type": "code",
   "execution_count": 2,
   "id": "695837f6",
   "metadata": {},
   "outputs": [],
   "source": [
    "# prepare the dataset\n",
    "(X_train, y_train), (X_test, y_test) = keras.datasets.mnist.load_data()\n",
    "# since we need a validation set\n",
    "# we use 80% of the training set for training, 20% for validation purpose\n",
    "pivot_index = round(len(X_train)*0.8)\n",
    "# since the data is in 2d numpy array\n",
    "# change it to 1d numpy array\n",
    "X_train = np.expand_dims(X_train, axis=-1)\n",
    "X_test = np.expand_dims(X_test, axis=-1)\n",
    "X_val = X_train[pivot_index:]\n",
    "X_train = X_train[:pivot_index]\n",
    "y_val = y_train[pivot_index:]\n",
    "y_train = y_train[:pivot_index]"
   ]
  },
  {
   "cell_type": "code",
   "execution_count": 13,
   "id": "e20035f7",
   "metadata": {},
   "outputs": [
    {
     "name": "stdout",
     "output_type": "stream",
     "text": [
      "Model: \"sequential_5\"\n",
      "_________________________________________________________________\n",
      "Layer (type)                 Output Shape              Param #   \n",
      "=================================================================\n",
      "conv2d_29 (Conv2D)           (None, 28, 28, 8)         208       \n",
      "_________________________________________________________________\n",
      "conv2d_30 (Conv2D)           (None, 28, 28, 16)        528       \n",
      "_________________________________________________________________\n",
      "conv2d_31 (Conv2D)           (None, 28, 28, 16)        1040      \n",
      "_________________________________________________________________\n",
      "max_pooling2d_17 (MaxPooling (None, 14, 14, 16)        0         \n",
      "_________________________________________________________________\n",
      "conv2d_32 (Conv2D)           (None, 14, 14, 32)        2080      \n",
      "_________________________________________________________________\n",
      "conv2d_33 (Conv2D)           (None, 14, 14, 32)        4128      \n",
      "_________________________________________________________________\n",
      "conv2d_34 (Conv2D)           (None, 14, 14, 64)        8256      \n",
      "_________________________________________________________________\n",
      "conv2d_35 (Conv2D)           (None, 14, 14, 64)        16448     \n",
      "_________________________________________________________________\n",
      "max_pooling2d_18 (MaxPooling (None, 7, 7, 64)          0         \n",
      "_________________________________________________________________\n",
      "conv2d_36 (Conv2D)           (None, 7, 7, 128)         32896     \n",
      "_________________________________________________________________\n",
      "conv2d_37 (Conv2D)           (None, 7, 7, 128)         65664     \n",
      "_________________________________________________________________\n",
      "max_pooling2d_19 (MaxPooling (None, 3, 3, 128)         0         \n",
      "_________________________________________________________________\n",
      "flatten_5 (Flatten)          (None, 1152)              0         \n",
      "_________________________________________________________________\n",
      "dense_15 (Dense)             (None, 64)                73792     \n",
      "_________________________________________________________________\n",
      "dropout_10 (Dropout)         (None, 64)                0         \n",
      "_________________________________________________________________\n",
      "dense_16 (Dense)             (None, 64)                4160      \n",
      "_________________________________________________________________\n",
      "dropout_11 (Dropout)         (None, 64)                0         \n",
      "_________________________________________________________________\n",
      "dense_17 (Dense)             (None, 10)                650       \n",
      "=================================================================\n",
      "Total params: 209,850\n",
      "Trainable params: 209,850\n",
      "Non-trainable params: 0\n",
      "_________________________________________________________________\n"
     ]
    }
   ],
   "source": [
    "# build the CNN model\n",
    "model = keras.models.Sequential([\n",
    "    keras.layers.Conv2D(8, 5, activation='relu', padding='same', input_shape=(28, 28, 1)),\n",
    "    keras.layers.Conv2D(16, 2, activation='relu', padding='same'),\n",
    "    keras.layers.Conv2D(16, 2, activation='relu', padding='same'),\n",
    "    keras.layers.MaxPooling2D(2),\n",
    "    keras.layers.Conv2D(32, 2, activation='relu', padding='same'),\n",
    "    keras.layers.Conv2D(32, 2, activation='relu', padding='same'),\n",
    "    keras.layers.Conv2D(64, 2, activation='relu', padding='same'),\n",
    "    keras.layers.Conv2D(64, 2, activation='relu', padding='same'),\n",
    "    keras.layers.MaxPooling2D(2),\n",
    "    keras.layers.Conv2D(128, 2, activation='relu', padding='same'),\n",
    "    keras.layers.Conv2D(128, 2, activation='relu', padding='same'),\n",
    "    keras.layers.MaxPooling2D(2),\n",
    "    keras.layers.Flatten(),\n",
    "    keras.layers.Dense(64, activation='relu'),\n",
    "    keras.layers.Dropout(0.4),\n",
    "    keras.layers.Dense(64, activation='relu'),\n",
    "    keras.layers.Dropout(0.4),\n",
    "    keras.layers.Dense(10, activation='softmax')\n",
    "])\n",
    "\n",
    "model.compile(optimizer='adam', loss='sparse_categorical_crossentropy', metrics=['accuracy'])\n",
    "model.summary()\n",
    "model.save('my_first_cnn.h5')"
   ]
  },
  {
   "cell_type": "code",
   "execution_count": 14,
   "id": "a293b7ec",
   "metadata": {},
   "outputs": [
    {
     "name": "stdout",
     "output_type": "stream",
     "text": [
      "Train on 48000 samples, validate on 12000 samples\n",
      "Epoch 1/100\n",
      "48000/48000 [==============================] - 35s 724us/sample - loss: 0.7956 - acc: 0.7194 - val_loss: 0.1401 - val_acc: 0.9654\n",
      "Epoch 2/100\n",
      "48000/48000 [==============================] - 34s 705us/sample - loss: 0.2938 - acc: 0.9142 - val_loss: 0.0904 - val_acc: 0.9794\n",
      "Epoch 3/100\n",
      "48000/48000 [==============================] - 34s 703us/sample - loss: 0.2165 - acc: 0.9393 - val_loss: 0.0914 - val_acc: 0.9770\n",
      "Epoch 4/100\n",
      "48000/48000 [==============================] - 34s 703us/sample - loss: 0.1656 - acc: 0.9567 - val_loss: 0.0728 - val_acc: 0.9799\n",
      "Epoch 5/100\n",
      "48000/48000 [==============================] - 34s 706us/sample - loss: 0.1305 - acc: 0.9656 - val_loss: 0.0503 - val_acc: 0.9868\n",
      "Epoch 6/100\n",
      "48000/48000 [==============================] - 34s 708us/sample - loss: 0.1176 - acc: 0.9689 - val_loss: 0.0446 - val_acc: 0.9885\n",
      "Epoch 7/100\n",
      "48000/48000 [==============================] - 34s 701us/sample - loss: 0.1072 - acc: 0.9726 - val_loss: 0.0649 - val_acc: 0.9833\n",
      "Epoch 8/100\n",
      "48000/48000 [==============================] - 34s 703us/sample - loss: 0.0961 - acc: 0.9747 - val_loss: 0.0467 - val_acc: 0.9875\n",
      "Epoch 9/100\n",
      "48000/48000 [==============================] - 34s 709us/sample - loss: 0.0923 - acc: 0.9758 - val_loss: 0.0525 - val_acc: 0.9860\n",
      "Epoch 10/100\n",
      "48000/48000 [==============================] - 34s 714us/sample - loss: 0.0922 - acc: 0.9759 - val_loss: 0.0657 - val_acc: 0.9828\n",
      "Epoch 11/100\n",
      "48000/48000 [==============================] - 34s 714us/sample - loss: 0.0741 - acc: 0.9806 - val_loss: 0.0398 - val_acc: 0.9900\n",
      "Epoch 12/100\n",
      "48000/48000 [==============================] - 34s 708us/sample - loss: 0.0766 - acc: 0.9802 - val_loss: 0.0546 - val_acc: 0.9857\n",
      "Epoch 13/100\n",
      "48000/48000 [==============================] - 34s 707us/sample - loss: 0.0716 - acc: 0.9814 - val_loss: 0.0445 - val_acc: 0.9878\n",
      "Epoch 14/100\n",
      "48000/48000 [==============================] - 34s 708us/sample - loss: 0.0686 - acc: 0.9818 - val_loss: 0.0551 - val_acc: 0.9870\n",
      "Epoch 15/100\n",
      "48000/48000 [==============================] - 34s 708us/sample - loss: 0.0689 - acc: 0.9825 - val_loss: 0.0408 - val_acc: 0.9889\n",
      "Epoch 16/100\n",
      "48000/48000 [==============================] - 34s 704us/sample - loss: 0.0689 - acc: 0.9823 - val_loss: 0.0527 - val_acc: 0.9855\n",
      "Epoch 17/100\n",
      "48000/48000 [==============================] - 34s 706us/sample - loss: 0.0650 - acc: 0.9835 - val_loss: 0.0423 - val_acc: 0.9905\n",
      "Epoch 18/100\n",
      "48000/48000 [==============================] - 34s 708us/sample - loss: 0.0596 - acc: 0.9850 - val_loss: 0.0403 - val_acc: 0.9897\n",
      "Epoch 19/100\n",
      "48000/48000 [==============================] - 34s 709us/sample - loss: 0.0638 - acc: 0.9844 - val_loss: 0.0597 - val_acc: 0.9866\n",
      "Epoch 20/100\n",
      "48000/48000 [==============================] - 34s 711us/sample - loss: 0.0595 - acc: 0.9853 - val_loss: 0.0572 - val_acc: 0.9846\n",
      "Epoch 21/100\n",
      "48000/48000 [==============================] - 34s 708us/sample - loss: 0.0573 - acc: 0.9852 - val_loss: 0.0519 - val_acc: 0.9892\n"
     ]
    },
    {
     "data": {
      "text/plain": [
       "<tensorflow.python.keras.callbacks.History at 0x272fee99e08>"
      ]
     },
     "execution_count": 14,
     "metadata": {},
     "output_type": "execute_result"
    }
   ],
   "source": [
    "# set up a checkpoints and early stopping condition\n",
    "checkpoint = keras.callbacks.ModelCheckpoint('my_first_cnn.h5', save_best_only=True)\n",
    "earlystop = keras.callbacks.EarlyStopping(patience=10, restore_best_weights=True)\n",
    "# train the model\n",
    "model.fit(X_train, y_train, validation_data=(X_val, y_val), epochs=100, callbacks=[checkpoint, earlystop])"
   ]
  },
  {
   "cell_type": "code",
   "execution_count": 15,
   "id": "a8f72107",
   "metadata": {},
   "outputs": [
    {
     "name": "stdout",
     "output_type": "stream",
     "text": [
      "10000/10000 [==============================] - 2s 220us/sample - loss: 0.0405 - acc: 0.9898\n"
     ]
    },
    {
     "data": {
      "text/plain": [
       "[0.040529092000618445, 0.9898]"
      ]
     },
     "execution_count": 15,
     "metadata": {},
     "output_type": "execute_result"
    }
   ],
   "source": [
    "# get the model performance in test data\n",
    "model.evaluate(X_test, y_test)"
   ]
  },
  {
   "cell_type": "code",
   "execution_count": null,
   "id": "3c3dfe9d",
   "metadata": {},
   "outputs": [],
   "source": []
  }
 ],
 "metadata": {
  "kernelspec": {
   "display_name": "Python 3 (ipykernel)",
   "language": "python",
   "name": "python3"
  },
  "language_info": {
   "codemirror_mode": {
    "name": "ipython",
    "version": 3
   },
   "file_extension": ".py",
   "mimetype": "text/x-python",
   "name": "python",
   "nbconvert_exporter": "python",
   "pygments_lexer": "ipython3",
   "version": "3.9.7"
  }
 },
 "nbformat": 4,
 "nbformat_minor": 5
}
